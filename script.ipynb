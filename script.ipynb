{
  "cells": [
    {
      "cell_type": "code",
      "execution_count": null,
      "metadata": {
        "colab": {
          "base_uri": "https://localhost:8080/"
        },
        "id": "33WXPnRDB6s3",
        "outputId": "af686f9c-02a3-42ea-d99a-dbcbd1af831b"
      },
      "outputs": [],
      "source": [
        "from google.colab import drive\n",
        "drive.mount('/content/drive')"
      ]
    },
    {
      "cell_type": "code",
      "execution_count": null,
      "metadata": {
        "id": "iXWLFfmkByJP"
      },
      "outputs": [],
      "source": [
        "%%capture\n",
        "!sudo apt-get install espeak-ng\n",
        "!pip install TTS\n",
        "!pip install pydub\n",
        "!pip install trainer==0.0.20"
      ]
    },
    {
      "cell_type": "code",
      "execution_count": null,
      "metadata": {
        "id": "BJLvEUcdCEtX"
      },
      "outputs": [],
      "source": [
        "# import needed libraries\n",
        "import os\n",
        "import torch\n",
        "from trainer import Trainer, TrainerArgs\n",
        "from TTS.tts.configs.shared_configs import BaseDatasetConfig\n",
        "from TTS.tts.configs.vits_config import VitsConfig\n",
        "from TTS.tts.datasets import load_tts_samples\n",
        "from TTS.tts.models.vits import Vits, VitsArgs, VitsAudioConfig\n",
        "from TTS.tts.utils.speakers import SpeakerManager\n",
        "from TTS.tts.utils.text.tokenizer import TTSTokenizer\n",
        "from TTS.utils.audio import AudioProcessor\n",
        "from TTS.bin.compute_embeddings import compute_embeddings\n",
        "from TTS.tts.utils.speakers import SpeakerManager, get_speaker_balancer_weights, get_speaker_manager"
      ]
    },
    {
      "cell_type": "code",
      "execution_count": null,
      "metadata": {
        "id": "_tTa0jfKCHNy"
      },
      "outputs": [],
      "source": [
        "%%capture\n",
        "!tts --text \"I am the very model of a modern Major General\" --model_name \"tts_models/en/ljspeech/vits\" --out_path /content/ljspeech-vits.wav\n",
        "model_file=\"/root/.local/share/tts/tts_models--en--ljspeech--vits/model_file.pth\""
      ]
    },
    {
      "cell_type": "code",
      "execution_count": null,
      "metadata": {
        "id": "i7QCdsgBCKhA"
      },
      "outputs": [],
      "source": [
        "output_path=\"/content/drive/MyDrive/vits/traineroutput/\""
      ]
    },
    {
      "cell_type": "code",
      "execution_count": null,
      "metadata": {
        "id": "B-OnO7RjCNJS"
      },
      "outputs": [],
      "source": [
        "dataset_config = BaseDatasetConfig(\n",
        "    formatter=\"vctk\", meta_file_train=\"\", phonemizer=\"espeak\", dataset_name=\"vctk-vits\", language=\"en-us\", path=\"path/to/data\"\n",
        ")"
      ]
    },
    {
      "cell_type": "code",
      "execution_count": null,
      "metadata": {
        "id": "DxlL5Y1lCPrZ"
      },
      "outputs": [],
      "source": [
        "audio_config = VitsAudioConfig(\n",
        "    sample_rate=22050, win_length=1024, hop_length=256, num_mels=80, mel_fmin=0, mel_fmax=None\n",
        ")\n",
        "\n",
        "vitsArgs = VitsArgs(\n",
        "    use_speaker_embedding=True,\n",
        ")\n",
        "\n",
        "config = VitsConfig(\n",
        "    model_args=vitsArgs,\n",
        "    audio=audio_config,\n",
        "    run_name=\"tts_multispeaker\",\n",
        "    batch_size=16,\n",
        "    eval_batch_size=16,\n",
        "    eval_split_max_size=256,\n",
        "    eval_split_size=0.01,\n",
        "    batch_group_size=5,\n",
        "    num_loader_workers=2,\n",
        "    num_eval_loader_workers=2,\n",
        "    run_eval=True,\n",
        "    test_delay_epochs=-1,\n",
        "    epochs=1000,\n",
        "    text_cleaner=\"english_cleaners\",\n",
        "    use_phonemes=True,\n",
        "    phoneme_language=\"en\",\n",
        "    phoneme_cache_path=os.path.join(output_path, \"phoneme_cache\"),\n",
        "    compute_input_seq_cache=True,\n",
        "    print_step=25,\n",
        "    print_eval=True,\n",
        "    mixed_precision=True,\n",
        "    max_text_len=500,  # change this if you have a larger VRAM than 16GB\n",
        "    output_path=output_path,\n",
        "    datasets=[dataset_config],\n",
        "    cudnn_benchmark=False,\n",
        "    save_best_after=1000,\n",
        "    save_all_best=True,\n",
        "    save_checkpoints=True,\n",
        "    save_n_checkpoints=50,\n",
        "    save_step=1000,\n",
        "    max_audio_len=22050 * 15\n",
        ")"
      ]
    },
    {
      "cell_type": "code",
      "execution_count": null,
      "metadata": {
        "id": "fY5XUbqsCVQa"
      },
      "outputs": [],
      "source": [
        "%%capture\n",
        "ap = AudioProcessor.init_from_config(config)\n",
        "tokenizer, config = TTSTokenizer.init_from_config(config)"
      ]
    },
    {
      "cell_type": "code",
      "execution_count": null,
      "metadata": {
        "colab": {
          "base_uri": "https://localhost:8080/"
        },
        "id": "ExXQ2UcXCXZY",
        "outputId": "e30c1221-ad02-4627-fca8-cbc290947828"
      },
      "outputs": [],
      "source": [
        "train_samples, eval_samples = load_tts_samples(\n",
        "    dataset_config,\n",
        "    eval_split=True,\n",
        "    eval_split_max_size=config.eval_split_max_size,\n",
        "    eval_split_size=config.eval_split_size,\n",
        ")"
      ]
    },
    {
      "cell_type": "code",
      "execution_count": null,
      "metadata": {
        "id": "zZmTn316CZpA"
      },
      "outputs": [],
      "source": [
        "speaker_manager = SpeakerManager()\n",
        "speaker_manager.set_ids_from_data(train_samples + eval_samples, parse_key=\"speaker_name\")\n",
        "config.model_args.num_speakers = speaker_manager.num_speakers\n",
        "config.num_speakers=speaker_manager.num_speakers"
      ]
    },
    {
      "cell_type": "code",
      "execution_count": null,
      "metadata": {
        "colab": {
          "base_uri": "https://localhost:8080/"
        },
        "id": "eFvuZ5cwEwsU",
        "outputId": "ea8ffe75-950a-4285-da49-f31a6da085a8"
      },
      "outputs": [],
      "source": [
        "model = Vits(config, ap, tokenizer, speaker_manager)"
      ]
    },
    {
      "cell_type": "code",
      "execution_count": null,
      "metadata": {
        "id": "dNRVy_sxCchI"
      },
      "outputs": [],
      "source": [
        "RESTORE_PATH=\"/root/.local/share/tts/tts_models--en--ljspeech--vits/model_file.pth\""
      ]
    },
    {
      "cell_type": "code",
      "execution_count": null,
      "metadata": {
        "colab": {
          "base_uri": "https://localhost:8080/"
        },
        "id": "XPStqEFpCegG",
        "outputId": "5e14a880-b4ec-4c18-a9ae-2dbc344f327e"
      },
      "outputs": [],
      "source": [
        "trainer = Trainer(\n",
        "    TrainerArgs(restore_path=RESTORE_PATH, skip_train_epoch=False),\n",
        "    config,\n",
        "    output_path=output_path,\n",
        "    model=model,\n",
        "    train_samples=train_samples,\n",
        "    eval_samples=eval_samples,\n",
        ")"
      ]
    },
    {
      "cell_type": "code",
      "execution_count": null,
      "metadata": {},
      "outputs": [],
      "source": [
        "\n",
        "%load_ext tensorboard\n",
        "%tensorboard --logdir \"/path/to/log/dir\""
      ]
    },
    {
      "cell_type": "code",
      "execution_count": null,
      "metadata": {
        "id": "iEm5qyQGCiH8"
      },
      "outputs": [],
      "source": [
        "trainer.fit()"
      ]
    }
  ],
  "metadata": {
    "accelerator": "GPU",
    "colab": {
      "provenance": []
    },
    "kernelspec": {
      "display_name": "Python 3",
      "name": "python3"
    },
    "language_info": {
      "name": "python"
    }
  },
  "nbformat": 4,
  "nbformat_minor": 0
}
